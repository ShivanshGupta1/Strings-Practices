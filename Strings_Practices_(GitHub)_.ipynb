{
  "nbformat": 4,
  "nbformat_minor": 0,
  "metadata": {
    "colab": {
      "name": "Strings Practices (GitHub) .ipynb",
      "provenance": [],
      "authorship_tag": "ABX9TyObLo+WWkizU6e8x6ETa6CB",
      "include_colab_link": true
    },
    "kernelspec": {
      "name": "python3",
      "display_name": "Python 3"
    }
  },
  "cells": [
    {
      "cell_type": "markdown",
      "metadata": {
        "id": "view-in-github",
        "colab_type": "text"
      },
      "source": [
        "<a href=\"https://colab.research.google.com/github/ShivanshGupta1/Strings-Practices/blob/main/Strings_Practices_(GitHub)_.ipynb\" target=\"_parent\"><img src=\"https://colab.research.google.com/assets/colab-badge.svg\" alt=\"Open In Colab\"/></a>"
      ]
    },
    {
      "cell_type": "code",
      "metadata": {
        "id": "xc4MsIMDbDA4"
      },
      "source": [
        "Input = input('Word: ')\n",
        "print('Below is your funny pattern')\n",
        "for i in range(len(Input)+1):\n",
        "  print(Input[:i], end =' ')"
      ],
      "execution_count": null,
      "outputs": []
    },
    {
      "cell_type": "code",
      "metadata": {
        "id": "cD0xsMBebMEW"
      },
      "source": [
        "Input = input('String: ')\n",
        "Input = Input.lower()\n",
        "Input = Input.replace(',','')\n",
        "Input = Input.replace('.','')\n",
        "print(Input)"
      ],
      "execution_count": null,
      "outputs": []
    },
    {
      "cell_type": "code",
      "metadata": {
        "id": "Ce3iEG4GbUQV"
      },
      "source": [
        "s = input('Input your string: ')\n",
        "if s[::-1]==s:\n",
        "  print(\"Yes, it is a palendrome\")\n",
        "else:\n",
        "  print('Nope, not a palendrome')"
      ],
      "execution_count": null,
      "outputs": []
    },
    {
      "cell_type": "code",
      "metadata": {
        "id": "QTdgWn6fbX1p"
      },
      "source": [
        "s = input('Input your string: ')\n",
        "s = s.lower()\n",
        "for i in range(1,len(s),2):\n",
        "  s = s[:i]+s[i].upper()+s[i+1:]\n",
        "print(s)"
      ],
      "execution_count": null,
      "outputs": []
    },
    {
      "cell_type": "code",
      "metadata": {
        "id": "SgALWLrabZ69"
      },
      "source": [
        "s = input('String: ')\n",
        "for i in range(len(s)):\n",
        "  if s[i]=='a' or s[i]=='e' or s[i]=='i' or s[i]=='o' or s[i]=='u':\n",
        "    print('Yes it does contain vowels')\n",
        "    break"
      ],
      "execution_count": null,
      "outputs": []
    },
    {
      "cell_type": "code",
      "metadata": {
        "id": "J3mlfG2fbbZl"
      },
      "source": [
        "#datetime validation - to check if the date is valid or not\n",
        "Date = input('Enter Your Date - dd/mm/yyyy: ')\n",
        "from datetime import * \n",
        "day,month,year = Date.split('/')\n",
        "#Exceptioanl handling\n",
        "# it will work with try and expcet, which means it will try to excute the code, until there is not error, if there is an exception, then it will excute what it there in the except block, and stop the error from coming\n",
        "try:\n",
        "  datetime(int(year), int(month), int(day))\n",
        "except:\n",
        "  print('Invalid Date Format')"
      ],
      "execution_count": null,
      "outputs": []
    }
  ]
}